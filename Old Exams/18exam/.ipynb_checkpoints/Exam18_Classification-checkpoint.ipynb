{
 "cells": [
  {
   "cell_type": "code",
   "execution_count": 1,
   "metadata": {},
   "outputs": [],
   "source": [
    "import numpy as np\n",
    "from sklearn.neighbors import KNeighborsClassifier, NearestCentroid\n",
    "from numpy import linalg as LA"
   ]
  },
  {
   "cell_type": "code",
   "execution_count": 2,
   "metadata": {},
   "outputs": [],
   "source": [
    "X = np.array([[0,1],\n",
    "              [1,0],\n",
    "              [1,1],\n",
    "              [3,1],\n",
    "              [3,2],\n",
    "              [4,1],\n",
    "              [4,2]])\n",
    "\n",
    "l = np.array([1,1,1,2,2,2,2])\n",
    "\n",
    "test_data = np.array([[1,2],\n",
    "                      [3,0],\n",
    "                      [2,1]])\n",
    "\n"
   ]
  },
  {
   "cell_type": "markdown",
   "metadata": {},
   "source": [
    "## Nearest Centroid"
   ]
  },
  {
   "cell_type": "code",
   "execution_count": 3,
   "metadata": {},
   "outputs": [
    {
     "data": {
      "text/plain": [
       "array([1, 2, 1])"
      ]
     },
     "execution_count": 3,
     "metadata": {},
     "output_type": "execute_result"
    }
   ],
   "source": [
    "# Aquiring the nearest centroid algorithm\n",
    "clf = NearestCentroid()\n",
    "\n",
    "clf.fit(X,l)\n",
    "\n",
    "clf.predict(test_data)"
   ]
  },
  {
   "cell_type": "markdown",
   "metadata": {},
   "source": [
    "# Nearest Neighbor"
   ]
  },
  {
   "cell_type": "code",
   "execution_count": 4,
   "metadata": {},
   "outputs": [
    {
     "data": {
      "text/plain": [
       "array([1, 2, 1])"
      ]
     },
     "execution_count": 4,
     "metadata": {},
     "output_type": "execute_result"
    }
   ],
   "source": [
    "clf = KNeighborsClassifier()\n",
    "\n",
    "clf.fit(X,l)\n",
    "\n",
    "clf.predict(test_data)"
   ]
  },
  {
   "cell_type": "markdown",
   "metadata": {},
   "source": [
    "# Bayes Based"
   ]
  },
  {
   "cell_type": "code",
   "execution_count": 5,
   "metadata": {},
   "outputs": [],
   "source": [
    "# Defining c1 and c2\n",
    "c1 = X[:3]\n",
    "c2 = X[3:7]\n",
    "\n",
    "m1 = c1.mean(0)\n",
    "m2 = c2.mean(0)\n",
    "#m_all = X.mean(0)"
   ]
  },
  {
   "cell_type": "code",
   "execution_count": 6,
   "metadata": {},
   "outputs": [],
   "source": [
    "#For e^(xxxxx) use np.exp(xxxxx)\n",
    "\n",
    "pxc1 = []\n",
    "pxc2 = []\n",
    "for i in test_data:\n",
    "    pxc1 = np.append(pxc1, (-2**(-(LA.norm(i-m1)))/(np.sum(-2**(-(LA.norm(i-m1))) + -2**(-(LA.norm(i-m2)))))))\n",
    "    pxc2 = np.append(pxc2, (-2**(-(LA.norm(i-m2)))/(np.sum(-2**(-(LA.norm(i-m1))) + -2**(-(LA.norm(i-m2)))))))"
   ]
  },
  {
   "cell_type": "code",
   "execution_count": 7,
   "metadata": {},
   "outputs": [
    {
     "name": "stdout",
     "output_type": "stream",
     "text": [
      "P(x|c1) = [0.69307734 0.35753005 0.53576935]\n",
      "P(x|c2) = [0.30692266 0.64246995 0.46423065]\n",
      "[ 0.38615469 -0.2849399   0.07153871]\n",
      "[1. 2. 1.]\n"
     ]
    }
   ],
   "source": [
    "D = pxc1 - pxc2    \n",
    "classification = []\n",
    "for d in D:\n",
    "    if d > 0:\n",
    "        classification = np.append(classification, 1)\n",
    "    else:\n",
    "        classification = np.append(classification, 2)\n",
    "\n",
    "print('P(x|c1) = {}\\nP(x|c2) = {}'.format(pxc1, pxc2))\n",
    "print(D)\n",
    "print(classification)"
   ]
  },
  {
   "cell_type": "code",
   "execution_count": null,
   "metadata": {},
   "outputs": [],
   "source": []
  },
  {
   "cell_type": "code",
   "execution_count": null,
   "metadata": {},
   "outputs": [],
   "source": []
  }
 ],
 "metadata": {
  "kernelspec": {
   "display_name": "Python 3",
   "language": "python",
   "name": "python3"
  },
  "language_info": {
   "codemirror_mode": {
    "name": "ipython",
    "version": 3
   },
   "file_extension": ".py",
   "mimetype": "text/x-python",
   "name": "python",
   "nbconvert_exporter": "python",
   "pygments_lexer": "ipython3",
   "version": "3.7.1"
  }
 },
 "nbformat": 4,
 "nbformat_minor": 2
}
