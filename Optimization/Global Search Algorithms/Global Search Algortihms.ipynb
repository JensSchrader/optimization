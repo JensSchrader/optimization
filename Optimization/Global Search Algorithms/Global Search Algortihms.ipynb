{
 "cells": [
  {
   "cell_type": "markdown",
   "metadata": {},
   "source": [
    "# Global Search Algorithms\n",
    "These types of algorithms as the name implies are not constrained to local optimization but tries to find global optimums. The algorithms are inspired by natural phenomena. \n",
    "\n",
    "1. Simulated Annealing\n",
    "2. Particle Swarm Optimization\n",
    "3. Genetic Algortihms"
   ]
  },
  {
   "cell_type": "markdown",
   "metadata": {},
   "source": [
    "## Simulated annealing\n",
    "Simulated annealing is inspired by metallurgy. Annealing means heating a material and slowly cooling it down, where material becomes easier to mold and shape. "
   ]
  },
  {
   "cell_type": "markdown",
   "metadata": {},
   "source": [
    "## Particle Swarm Optimization (PSO)\n",
    "PSO are inspired by bird flocking and fish schooling. In the endeavour to find treats the flock is spread out as candidate solution. Each candidate has three component; the Intertia component is the particle's velocity in a direction. The Cognitive/Memory component is the best known position of the particle. The Social/Communication component is the best known overall position of the swarm."
   ]
  },
  {
   "cell_type": "markdown",
   "metadata": {},
   "source": [
    "## Genetic Algorithms"
   ]
  },
  {
   "cell_type": "code",
   "execution_count": null,
   "metadata": {},
   "outputs": [],
   "source": []
  }
 ],
 "metadata": {
  "kernelspec": {
   "display_name": "Python 3",
   "language": "python",
   "name": "python3"
  },
  "language_info": {
   "codemirror_mode": {
    "name": "ipython",
    "version": 3
   },
   "file_extension": ".py",
   "mimetype": "text/x-python",
   "name": "python",
   "nbconvert_exporter": "python",
   "pygments_lexer": "ipython3",
   "version": "3.6.4"
  }
 },
 "nbformat": 4,
 "nbformat_minor": 2
}
