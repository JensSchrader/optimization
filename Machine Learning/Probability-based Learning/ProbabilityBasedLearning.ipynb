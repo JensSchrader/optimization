{
 "cells": [
  {
   "cell_type": "markdown",
   "metadata": {},
   "source": [
    "# Probability-based Learning (Chapter 3)"
   ]
  },
  {
   "cell_type": "code",
   "execution_count": 1,
   "metadata": {},
   "outputs": [],
   "source": [
    "import numpy as np\n",
    "from numpy import linalg as LA"
   ]
  },
  {
   "cell_type": "markdown",
   "metadata": {},
   "source": [
    "## 3.1. Baysian Classification\n",
    "\n",
    "Two classes are formed by the following samples"
   ]
  },
  {
   "cell_type": "code",
   "execution_count": 2,
   "metadata": {},
   "outputs": [],
   "source": [
    "## Classes c1 and c2 represent the training data\n",
    "c1 = np.array( [\n",
    "                    [-1, 0],\n",
    "                    [0,-1],\n",
    "                    [-0.5, -0.5],\n",
    "                    [-1.5,-1.5],\n",
    "                    [-2,0],\n",
    "                    [0, -2],\n",
    "                    [-1, -1.3]]\n",
    "             )\n",
    "c2 = np.array( [\n",
    "                    [1,1],\n",
    "                    [1.3, 0.7],\n",
    "                    [0.7, 1.3],\n",
    "                    [2.5, 1],\n",
    "                    [0,1]\n",
    "               ]\n",
    "             )\n",
    "\n",
    "## Input vector X represent test data not seen by the model\n",
    "X = np.array( [\n",
    "                    [0, 0],\n",
    "                    [1, 1],\n",
    "                    [-1, 0],\n",
    "                    [0.7, -0.2],\n",
    "                    [-0.2, 1.5]\n",
    "                ]\n",
    "              )"
   ]
  },
  {
   "cell_type": "code",
   "execution_count": 3,
   "metadata": {},
   "outputs": [
    {
     "name": "stdout",
     "output_type": "stream",
     "text": [
      "Priori Probabilities:\n",
      "p(c_1) = 0.5833333333333334\n",
      "p(c_2) = 0.4166666666666667\n"
     ]
    }
   ],
   "source": [
    "# We determine the training sample size\n",
    "sample_size = len(c1) + len(c2)\n",
    "\n",
    "# We compute the priori probabilities P(c_k)\n",
    "pc1 = len(c1) / sample_size\n",
    "pc2 = len(c2) / sample_size\n",
    "print('Priori Probabilities:\\np(c_1) = {}\\np(c_2) = {}'.format(pc1, pc2))"
   ]
  },
  {
   "cell_type": "code",
   "execution_count": 4,
   "metadata": {},
   "outputs": [
    {
     "name": "stdout",
     "output_type": "stream",
     "text": [
      "Mean vectors:\n",
      "m_c1 = [-0.85714286 -0.9       ]\n",
      "m_c2 = [1.1 1. ]\n"
     ]
    }
   ],
   "source": [
    "# We compute the mean vectors of the classes\n",
    "m1 = c1.mean(0)\n",
    "m2 = c2.mean(0)\n",
    "print('Mean vectors:\\nm_c1 = {}\\nm_c2 = {}'.format(m1, m2))"
   ]
  },
  {
   "cell_type": "code",
   "execution_count": 5,
   "metadata": {},
   "outputs": [
    {
     "name": "stdout",
     "output_type": "stream",
     "text": [
      "Conditional Probabilities:\n",
      "p(x|c1) = [0.5606375  0.07196604 0.804502   0.39118439 0.25058376]\n",
      "p(x|c2) = [0.4393625  0.92803396 0.195498   0.60881561 0.74941624]\n"
     ]
    }
   ],
   "source": [
    "# We compute the conditional propability p(c|c_k)\n",
    "pxc1 = []\n",
    "pxc2 = []\n",
    "for i in X:\n",
    "    pxc1 = np.append(pxc1, np.exp(-(LA.norm(i-m1)))/(np.sum(np.exp(-(LA.norm(i-m1))) + np.exp(-(LA.norm(i-m2))))))\n",
    "    pxc2 = np.append(pxc2, np.exp(-(LA.norm(i-m2)))/(np.sum(np.exp(-(LA.norm(i-m1))) + np.exp(-(LA.norm(i-m2))))))\n",
    "    \n",
    "print('Conditional Probabilities:\\np(x|c1) = {}\\np(x|c2) = {}'.format(pxc1, pxc2))"
   ]
  },
  {
   "cell_type": "code",
   "execution_count": 6,
   "metadata": {},
   "outputs": [
    {
     "name": "stdout",
     "output_type": "stream",
     "text": [
      "Posterior Probabilities:\n",
      "P(c1|x) = [0.32703854 0.04198019 0.46929284 0.2281909  0.14617386]\n",
      "P(c2|x) = [0.18306771 0.38668082 0.0814575  0.25367317 0.31225677]\n"
     ]
    }
   ],
   "source": [
    "# We compute the posterior probability P(c_k,x) = p(c|c_k)*p(c_k)\n",
    "pc1x = pxc1 * pc1\n",
    "pc2x = pxc2 * pc2\n",
    "\n",
    "print('Posterior Probabilities:\\nP(c1|x) = {}\\nP(c2|x) = {}'.format(pc1x, pc2x))"
   ]
  },
  {
   "cell_type": "code",
   "execution_count": 7,
   "metadata": {},
   "outputs": [
    {
     "name": "stdout",
     "output_type": "stream",
     "text": [
      "Classification of X: ['c1', 'c2', 'c1', 'c2', 'c2']\n"
     ]
    }
   ],
   "source": [
    "# We classify two the highest probability P(c1|x) > P(c2|x), as the numerical diffenence P(c1|x) - P(c2|x)\n",
    "classification = []\n",
    "D = pc1x - pc2x\n",
    "for d in D:\n",
    "    if d > 0:\n",
    "        classification.append('c1')\n",
    "    else:\n",
    "        classification.append('c2')\n",
    "        \n",
    "print('Classification of X: {}'.format(classification))"
   ]
  },
  {
   "cell_type": "markdown",
   "metadata": {},
   "source": [
    "## 3.2-3. Risk-Based Classification"
   ]
  },
  {
   "cell_type": "markdown",
   "metadata": {},
   "source": [
    "**NB.** Alexandros results are switched compared to ours. I suspect he did it the other way arround. I can't figure out wether we're right, but i guess we're."
   ]
  },
  {
   "cell_type": "code",
   "execution_count": 69,
   "metadata": {},
   "outputs": [
    {
     "name": "stdout",
     "output_type": "stream",
     "text": [
      "Risk function are:\n",
      "R(a1|x) = [0.18306771 0.38668082 0.0814575  0.25367317 0.31225677]\n",
      "R(a2|x) = [0.32703854 0.04198019 0.46929284 0.2281909  0.14617386]\n"
     ]
    }
   ],
   "source": [
    "loss_function = np.array( [ [0,1],\n",
    "                            [1,0] ] )\n",
    "R1 = np.array([])\n",
    "R2 = np.array([])\n",
    "for (i, j) in zip(pc1x, pc2x):\n",
    "    R1 = np.append(R1, ((loss_function[0][0]*i) + (loss_function[0][1]*j)))\n",
    "    R2 = np.append(R2, ((loss_function[1][1]*j) + (loss_function[1][0]*i)))\n",
    "print('Risk function are:\\nR(a1|x) = {}\\nR(a2|x) = {}'.format(R1, R2))"
   ]
  },
  {
   "cell_type": "code",
   "execution_count": 87,
   "metadata": {},
   "outputs": [
    {
     "name": "stdout",
     "output_type": "stream",
     "text": [
      "Likelihood Ratio: True\n"
     ]
    }
   ],
   "source": [
    "### I don't wether this is useful or not, however it is in ML notes but not used in exercises... yet\n",
    "print('Likelihood Ratio: {}'.format((pc1x[0] / pc2x[0])\n",
    "      > (((loss_function[0][1] - loss_function[1][1])*pc2x[0]) / \n",
    "         ((loss_function[1][0] - loss_function[0][0])*pc1x[0]))))"
   ]
  },
  {
   "cell_type": "code",
   "execution_count": 88,
   "metadata": {},
   "outputs": [
    {
     "name": "stdout",
     "output_type": "stream",
     "text": [
      "Classification of X: ['c1', 'c1', 'c2', 'c1', 'c1']\n"
     ]
    }
   ],
   "source": [
    "# We classify two the highest probability P(c1|x) > P(c2|x), as the numerical diffenence P(c1|x) - P(c2|x)\n",
    "classification = []\n",
    "D = R1 - R2\n",
    "for d in D:\n",
    "    if d > 0:\n",
    "        classification.append('c1')\n",
    "    else:\n",
    "        classification.append('c2')\n",
    "        \n",
    "print('Classification of X: {}'.format(classification))"
   ]
  },
  {
   "cell_type": "code",
   "execution_count": 89,
   "metadata": {},
   "outputs": [
    {
     "name": "stdout",
     "output_type": "stream",
     "text": [
      "Risk function are:\n",
      "R(a1|x) = [0.27726958 0.32613673 0.25288313 0.29421489 0.30827496]\n",
      "R(a2|x) = [0.23283667 0.10252428 0.2978672  0.18764917 0.15015567]\n"
     ]
    }
   ],
   "source": [
    "loss_function = np.array( [ [0.4,0.8],\n",
    "                            [0.6,0.2] ] )\n",
    "R1 = np.array([])\n",
    "R2 = np.array([])\n",
    "for (i, j) in zip(pc1x, pc2x):\n",
    "    R1 = np.append(R1, ((loss_function[0][0]*i) + (loss_function[0][1]*j)))\n",
    "    R2 = np.append(R2, ((loss_function[1][1]*j) + (loss_function[1][0]*i)))\n",
    "print('Risk function are:\\nR(a1|x) = {}\\nR(a2|x) = {}'.format(R1, R2))"
   ]
  },
  {
   "cell_type": "code",
   "execution_count": 90,
   "metadata": {},
   "outputs": [
    {
     "name": "stdout",
     "output_type": "stream",
     "text": [
      "Classification of X: ['c1', 'c1', 'c2', 'c1', 'c1']\n"
     ]
    }
   ],
   "source": [
    "# We classify two the highest probability P(c1|x) > P(c2|x), as the numerical diffenence P(c1|x) - P(c2|x)\n",
    "classification = []\n",
    "D = R1 - R2\n",
    "for d in D:\n",
    "    if d > 0:\n",
    "        classification.append('c1')\n",
    "    else:\n",
    "        classification.append('c2')\n",
    "        \n",
    "print('Classification of X: {}'.format(classification))"
   ]
  },
  {
   "cell_type": "markdown",
   "metadata": {},
   "source": [
    "## Gaussian Classification"
   ]
  },
  {
   "cell_type": "code",
   "execution_count": 92,
   "metadata": {},
   "outputs": [],
   "source": [
    "# Our covariance matrix is Sigma_1 = Sigma_2 = Sigma = [1 0; 0 2]\n",
    "\n",
    "covariance_matrix = np.array([ [1, 0], \n",
    "                               [0, 2]])"
   ]
  },
  {
   "cell_type": "code",
   "execution_count": 93,
   "metadata": {},
   "outputs": [
    {
     "data": {
      "text/plain": [
       "array([[1, 0],\n",
       "       [0, 2]])"
      ]
     },
     "execution_count": 93,
     "metadata": {},
     "output_type": "execute_result"
    }
   ],
   "source": [
    "covariance_matrix"
   ]
  },
  {
   "cell_type": "code",
   "execution_count": 117,
   "metadata": {},
   "outputs": [],
   "source": [
    "# I'm stuck... do not know how to get P(x|ck)... I get a matrix instead of an array...\n",
    "pxc1 = []\n",
    "pxc2 = []\n",
    "for i in X:\n",
    "    pxc1 = np.append(pxc1, (np.exp(-(np.transpose((i-m1))) * LA.inv(covariance_matrix)) * (i-m1)) /\n",
    "                     np.sum((np.exp(-(np.transpose((i-m1))) * LA.inv(covariance_matrix)) * (i-m1)) + \n",
    "                            (np.exp(-(np.transpose((i-m2))) * LA.inv(covariance_matrix)) * (i-m2))))\n",
    "    "
   ]
  },
  {
   "cell_type": "code",
   "execution_count": 118,
   "metadata": {},
   "outputs": [
    {
     "data": {
      "text/plain": [
       "array([-0.08345628, -0.20649081, -0.19665791, -0.13166435,  0.06342381,\n",
       "        0.41563058,  0.40625545,  0.1607414 ,  0.00794903, -0.04341227,\n",
       "        0.00689084, -0.02768089, -0.25151235, -0.53652188, -1.19348746,\n",
       "       -0.37808058, -0.32131877, -2.26402419, -0.61991139, -0.68191098])"
      ]
     },
     "execution_count": 118,
     "metadata": {},
     "output_type": "execute_result"
    }
   ],
   "source": [
    "pxc1"
   ]
  },
  {
   "cell_type": "code",
   "execution_count": 131,
   "metadata": {},
   "outputs": [
    {
     "data": {
      "text/plain": [
       "array([[0.98331782],\n",
       "       [1.14199191],\n",
       "       [1.14199191],\n",
       "       [1.44865208]])"
      ]
     },
     "execution_count": 131,
     "metadata": {},
     "output_type": "execute_result"
    }
   ],
   "source": [
    "v1 = c1.var(0)\n",
    "v2 = c2.var(0)\n",
    "0.5*(np.array( [ [(m1[0]-v1[0])*(m1[0]-v1[0])],\n",
    "                 [(m1[0]-v1[0])*(m1[1]-v1[1])],\n",
    "                 [(m1[1]-v1[1])*(m1[0]-v1[0])],\n",
    "                 [(m1[1]-v1[1])*(m1[1]-v1[1])]])\n",
    "     +\n",
    "     np.array( [ [(m2[0]-v2[0])*(m2[0]-v2[0])],\n",
    "                 [(m2[0]-v2[0])*(m2[1]-v2[1])],\n",
    "                 [(m2[1]-v2[1])*(m2[0]-v2[0])],\n",
    "                 [(m2[1]-v2[1])*(m2[1]-v2[1])]])\n",
    "    )"
   ]
  },
  {
   "cell_type": "code",
   "execution_count": 124,
   "metadata": {},
   "outputs": [
    {
     "data": {
      "text/plain": [
       "array([1.78685964, 1.96800816])"
      ]
     },
     "execution_count": 124,
     "metadata": {},
     "output_type": "execute_result"
    }
   ],
   "source": [
    "for (i, j) in zip(m1, v1)\n",
    "(m1-v1)*(m1-v1)"
   ]
  },
  {
   "cell_type": "code",
   "execution_count": null,
   "metadata": {},
   "outputs": [],
   "source": []
  }
 ],
 "metadata": {
  "kernelspec": {
   "display_name": "Python 3",
   "language": "python",
   "name": "python3"
  },
  "language_info": {
   "codemirror_mode": {
    "name": "ipython",
    "version": 3
   },
   "file_extension": ".py",
   "mimetype": "text/x-python",
   "name": "python",
   "nbconvert_exporter": "python",
   "pygments_lexer": "ipython3",
   "version": "3.6.4"
  }
 },
 "nbformat": 4,
 "nbformat_minor": 2
}
